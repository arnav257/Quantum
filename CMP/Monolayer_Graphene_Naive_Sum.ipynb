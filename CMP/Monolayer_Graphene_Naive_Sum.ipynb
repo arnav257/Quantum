{
  "nbformat": 4,
  "nbformat_minor": 0,
  "metadata": {
    "colab": {
      "name": "Monolayer Graphene: Naive Sum.ipynb",
      "provenance": [],
      "collapsed_sections": []
    },
    "kernelspec": {
      "display_name": "Python 3",
      "language": "python",
      "name": "python3"
    },
    "language_info": {
      "codemirror_mode": {
        "name": "ipython",
        "version": 3
      },
      "file_extension": ".py",
      "mimetype": "text/x-python",
      "name": "python",
      "nbconvert_exporter": "python",
      "pygments_lexer": "ipython3",
      "version": "3.7.7"
    }
  },
  "cells": [
    {
      "cell_type": "code",
      "metadata": {
        "colab_type": "code",
        "id": "gWodDtIgavdV",
        "colab": {
          "base_uri": "https://localhost:8080/",
          "height": 237
        },
        "outputId": "637b6ab8-838f-422a-ac9a-63dd1e2389c8"
      },
      "source": [
        "!git clone https://github.com/asmcleod/NearFieldOptics\n",
        "!git clone https://github.com/asmcleod/common"
      ],
      "execution_count": null,
      "outputs": [
        {
          "output_type": "stream",
          "text": [
            "Cloning into 'NearFieldOptics'...\n",
            "remote: Enumerating objects: 41, done.\u001b[K\n",
            "remote: Counting objects: 100% (41/41), done.\u001b[K\n",
            "remote: Compressing objects: 100% (32/32), done.\u001b[K\n",
            "remote: Total 349 (delta 15), reused 25 (delta 7), pack-reused 308\u001b[K\n",
            "Receiving objects: 100% (349/349), 48.85 MiB | 11.49 MiB/s, done.\n",
            "Resolving deltas: 100% (71/71), done.\n",
            "Cloning into 'common'...\n",
            "remote: Enumerating objects: 6, done.\u001b[K\n",
            "remote: Counting objects: 100% (6/6), done.\u001b[K\n",
            "remote: Compressing objects: 100% (4/4), done.\u001b[K\n"
          ],
          "name": "stdout"
        }
      ]
    },
    {
      "cell_type": "code",
      "metadata": {
        "id": "Zh-GvTfyTu2I",
        "colab_type": "code",
        "colab": {}
      },
      "source": [
        "from google.colab import drive # nxNxN\n",
        "drive.mount('/content/drive/')"
      ],
      "execution_count": null,
      "outputs": []
    },
    {
      "cell_type": "code",
      "metadata": {
        "colab_type": "code",
        "id": "NpZ3522HXbsD",
        "colab": {}
      },
      "source": [
        "from __future__ import print_function\n",
        "\n",
        "import numpy as np\n",
        "import pickle\n",
        "import matplotlib.pyplot as plt\n",
        "import seaborn as sns\n",
        "from scipy.signal import find_peaks, peak_widths\n",
        "import pandas as pd\n",
        "from tqdm import tqdm\n",
        "\n",
        "from NearFieldOptics import Materials as M\n",
        "\n",
        "E_F = 0\n",
        "T = 300 \n",
        "hbar = 1.05457181765e-34\n",
        "k_b = 1.38064852e-23\n",
        "scale = 2060000000\n",
        "\n",
        "def func(E):\n",
        "    return 1.0/(1+np.exp((E-E_F)/(T*k_b)))\n",
        "\n",
        "def fdash(E): #derivative wrt E\n",
        "    return -1/(T*k_b)*np.exp((E-E_F)/(T*k_b))/(1+np.exp((E-E_F)/(T*k_b)))**2"
      ],
      "execution_count": null,
      "outputs": []
    },
    {
      "cell_type": "code",
      "metadata": {
        "colab_type": "code",
        "id": "30F28ajc2csB",
        "colab": {}
      },
      "source": [
        "deltas = np.linspace(0,1.2,7)\n",
        "mus = np.linspace(0,0.5,6)\n",
        "with open('/content/drive/My Drive/CMP Superconductivity/big data/eigenvalue dict (monolayer onsite spin singlet) nspin=1','rb') as f:\n",
        "    eval_dict = pickle.load(f)\n",
        "with open('/content/drive/My Drive/CMP Superconductivity/big data/eigenvector dict (monolayer onsite spin singlet) nspin=1','rb') as f:\n",
        "    evec_dict = pickle.load(f)"
      ],
      "execution_count": null,
      "outputs": []
    },
    {
      "cell_type": "code",
      "metadata": {
        "colab_type": "code",
        "id": "qGus7dxu14OE",
        "colab": {}
      },
      "source": [
        "def getEigen(delta=0.0,mu=0.0):\n",
        "\n",
        "    e_val,e_vec = eval_dict[(delta,mu)],evec_dict[(delta,mu)]\n",
        "    \n",
        "    eigenval = e_val.reshape(8,100,100)\n",
        "    eigenvec = e_vec.reshape(8,100,100,8)\n",
        "\n",
        "    return eigenval, eigenvec"
      ],
      "execution_count": null,
      "outputs": []
    },
    {
      "cell_type": "code",
      "metadata": {
        "id": "MNhMsAc-HKAz",
        "colab_type": "code",
        "colab": {}
      },
      "source": [
        "x1,x2=getEigen()"
      ],
      "execution_count": null,
      "outputs": []
    },
    {
      "cell_type": "markdown",
      "metadata": {
        "colab_type": "text",
        "id": "FjCFy6s954vv"
      },
      "source": [
        "## Kubo Formula"
      ]
    },
    {
      "cell_type": "code",
      "metadata": {
        "cellView": "both",
        "colab_type": "code",
        "id": "mL64q6gxXbsS",
        "scrolled": true,
        "colab": {}
      },
      "source": [
        "constants = 1j # fitting-ish parameter\n",
        "\n",
        "def kubo_arr(E, evec, omega, Gamma):\n",
        "    conductivity = np.zeros(shape=(omega.shape),dtype=complex)\n",
        "    for i in tqdm(range(len(omega))): #get conductivity for each omega\n",
        "        ku=0\n",
        "        for n in range(len(E)): #band index n\n",
        "            for m in range(len(E)): #band index m\n",
        "                halfdot = np.conj(evec[n])*np.flip(evec[m].reshape(100,100,4,2),axis=-1).reshape(100,100,8)\n",
        "                dotprod = np.sum(halfdot, axis = -1)\n",
        "                spinfrac = (np.absolute(dotprod))**2\n",
        "                \n",
        "                if n!=m:\n",
        "                    if(len(np.where(E[m]-E[n]==0)[0])>0): #if bands are degenerate or \"intersect\"\n",
        "                        #print(n,m,'dirac cone')\n",
        "                        contribution = -fdash(E[n]) #sure about this?\n",
        "                    else:\n",
        "                        #print(n,m,'interband contribution')\n",
        "                        contribution = (func(E[n])-func(E[m]))/(E[m]-E[n])\n",
        "                else:\n",
        "                    contribution = -fdash(E[n])\n",
        "                    #print(n,m,'INTRABAND contribution')\n",
        "\n",
        "                ku += constants*contribution*spinfrac/(hbar*omega[i]+Gamma*1j-E[m]+E[n])\n",
        "        conductivity[i]=np.sum(ku)\n",
        "            \n",
        "    return conductivity"
      ],
      "execution_count": null,
      "outputs": []
    },
    {
      "cell_type": "code",
      "metadata": {
        "id": "8Z8Gdt0JJAPn",
        "colab_type": "code",
        "colab": {
          "base_uri": "https://localhost:8080/",
          "height": 504
        },
        "outputId": "68b33efc-461c-4f0e-9e1f-f981af9af053"
      },
      "source": [
        "delta,mu=0.0,0.0\n",
        "gamma = 0.5\n",
        "freq = np.linspace(0,1e16,200)\n",
        "\n",
        "S = M.SingleLayerGraphene(gamma = gamma)\n",
        "\n",
        "eigenval, eigenvec = getEigen(delta,mu)\n",
        "eigenval*=1.6e-19\n",
        "\n",
        "sigs = S.conductivity(freq)\n",
        "sigma = kubo_arr(eigenval, eigenvec, freq, gamma*1.6e-19)\n",
        "\n",
        "print(delta,mu)\n",
        "\n",
        "plt.figure(figsize=(10,7.5))\n",
        "plt.plot(freq, sigma.real/sigma.real[0], label = 'kubo real')\n",
        "plt.plot(freq, sigma.imag/sigma.real[0], label = 'kubo imag')\n",
        "'''\n",
        "plt.plot(freq, sigs.real, label = 'real')\n",
        "plt.plot(freq, sigs.imag, label = 'imag')\n",
        "'''\n",
        "\n",
        "plt.legend()\n",
        "plt.show()"
      ],
      "execution_count": null,
      "outputs": [
        {
          "output_type": "stream",
          "text": [
            "100%|██████████| 200/200 [00:40<00:00,  5.00it/s]"
          ],
          "name": "stderr"
        },
        {
          "output_type": "stream",
          "text": [
            "0.0 0.0\n"
          ],
          "name": "stdout"
        },
        {
          "output_type": "stream",
          "text": [
            "\n"
          ],
          "name": "stderr"
        },
        {
          "output_type": "display_data",
          "data": {
            "image/png": "[encoded data removed]",
            "text/plain": [
              "<Figure size 720x540 with 1 Axes>"
            ]
          },
          "metadata": {
            "tags": [],
            "needs_background": "light"
          }
        }
      ]
    },
    {
      "cell_type": "code",
      "metadata": {
        "cellView": "both",
        "colab_type": "code",
        "id": "FoLiNoprZ_IN",
        "scrolled": true,
        "colab": {}
      },
      "source": [
        "#@title Qualitative Conductivity- Sanity Check\n",
        "gamma = 5 #@param\n",
        "gamma = gamma*1.6e-19\n",
        "freq = np.linspace(0,1e17,200)\n",
        "\n",
        "for delta in np.round(deltas,decimals=1):\n",
        "    for mu in np.round(mus,decimals=1):\n",
        "        eigenval, eigenvec = getEigen(delta,mu)\n",
        "        eigenval*=1.6e-19\n",
        "        sigma = kubo_arr(eigenval, eigenvec, freq, gamma)\n",
        "\n",
        "        print(delta,mu)\n",
        "        plt.plot(freq, sigma.real)\n",
        "        plt.plot(freq, sigma.imag)\n",
        "        plt.show()"
      ],
      "execution_count": null,
      "outputs": []
    },
    {
      "cell_type": "code",
      "metadata": {
        "cellView": "form",
        "colab_type": "code",
        "id": "JX2lFbp2XbsP",
        "scrolled": true,
        "colab": {}
      },
      "source": [
        "#@title Band Structure- Sanity Check\n",
        "from mpl_toolkits.mplot3d import Axes3D\n",
        "fig = plt.figure()\n",
        "ax = fig.add_subplot(111, projection='3d')\n",
        "N = 100\n",
        "\n",
        "x = y = np.linspace(-N//2, N//2, N)\n",
        "k_X, k_Y = np.meshgrid(x, y)\n",
        "\n",
        "ax.plot_wireframe(k_X, k_Y, eigenval[0])\n",
        "ax.plot_wireframe(k_X, k_Y, eigenval[4],0.75,color='orange')"
      ],
      "execution_count": null,
      "outputs": []
    },
    {
      "cell_type": "code",
      "metadata": {
        "colab_type": "code",
        "id": "xQ4u6wkubT_e",
        "colab": {}
      },
      "source": [
        "def getConductivity(freq = np.linspace(0,3000,1500),delta=0.0, mu=0.0, Gamma = 10):\n",
        "    eigenval, eigenvec = getEigen(delta, mu)\n",
        "    sigma = kubo_arr(eigenval, eigenvec, freq, Gamma)\n",
        "    return sigma*scale\n",
        " \n",
        "def getPlasmon(freq = np.linspace(0,3000,1500), delta=0.0, mu=0.0, frequency = 30, q = np.linspace(1,2.5e6,1500), Gamma = 10):\n",
        "    sigma = getConductivity(freq, delta, mu, Gamma)\n",
        "    \n",
        "    df = pd.DataFrame({\"freq\" : freq, \"real\" : sigma.real, \"imag\" : sigma.imag})\n",
        "    df.to_csv(\"temp.csv\", index=False)\n",
        " \n",
        "    surface = M.TabulatedSurfaceFromFile('temp.csv')\n",
        " \n",
        "    rp = surface.reflection_p(frequency,q)\n",
        "    rp = rp.T\n",
        " \n",
        "    #np.imag(rp).plot()\n",
        " \n",
        "    peaks = find_peaks(np.imag(rp))[0]\n",
        " \n",
        "    FWHM = peak_widths(np.imag(rp),peaks)\n",
        "    print(delta,mu)\n",
        "    print('plasmon wavelength:',2*np.pi/np.imag(rp)[peaks])\n",
        "    print('FWHM:',FWHM[0])\n",
        " \n",
        "    return 2*np.pi/np.imag(rp)[peaks], FWHM[0]"
      ],
      "execution_count": null,
      "outputs": []
    },
    {
      "cell_type": "code",
      "metadata": {
        "colab_type": "code",
        "id": "ddQf-H1dSRdp",
        "colab": {}
      },
      "source": [
        "def getPlasmonWavelength(freq = np.linspace(0,3000,1500), delta=0.0,mu=0.0, frequency = 30, q = np.linspace(1,2.5e6,1500), Gamma = 10):\n",
        "    wavelength, FWHM = getPlasmon(freq, delta, mu, frequency, q, Gamma)\n",
        "    return wavelength\n",
        "\n",
        "def getPlasmonFWHM(freq = np.linspace(0,3000,1500),delta=0.0, mu=0.0, frequency = 30, q = np.linspace(1,2.5e6,1500), Gamma = 10):\n",
        "    wavelength, FWHM = getPlasmon(freq, delta, mu, frequency, q, Gamma)\n",
        "    return FWHM"
      ],
      "execution_count": null,
      "outputs": []
    },
    {
      "cell_type": "markdown",
      "metadata": {
        "colab_type": "text",
        "id": "e2pRo6ZEMB3d"
      },
      "source": [
        "## Final Colormap\n"
      ]
    },
    {
      "cell_type": "code",
      "metadata": {
        "colab_type": "code",
        "id": "_XmZZFjAUH1Y",
        "colab": {}
      },
      "source": [
        "freqo = 30\n",
        "qu = np.linspace(1,2.5e6,1500)\n",
        "gam = 10\n",
        "freqarr = np.linspace(0,3000,50)"
      ],
      "execution_count": null,
      "outputs": []
    },
    {
      "cell_type": "code",
      "metadata": {
        "colab_type": "code",
        "id": "hotq_Q1eBS2-",
        "colab": {}
      },
      "source": [
        "wvdata = np.zeros(shape=(len(mus),len(deltas))) #BE CAREFUL- SHAPE = y,x\n",
        "FWHMdata = np.zeros(shape=(len(mus),len(deltas))) #BE CAREFUL- SHAPE = y,x\n",
        "\n",
        "for i in range(len(deltas)):\n",
        "    for j in range(len(mus)):\n",
        "        wvdata[j][i] = np.mean(getPlasmonWavelength(freq = freqarr, delta = np.round(deltas, decimals=1)[i], mu = np.round(mus, decimals=1)[j], frequency = freqo, q = qu, Gamma = gam)) #remove max \n",
        "        FWHMdata[j][i] = np.mean(getPlasmonFWHM(freq = freqarr, delta = np.round(deltas, decimals=1)[i], mu = np.round(mus, decimals=1)[j], frequency = freqo, q = qu, Gamma = gam))"
      ],
      "execution_count": null,
      "outputs": []
    },
    {
      "cell_type": "code",
      "metadata": {
        "colab_type": "code",
        "id": "QF8X1XtlbcXW",
        "colab": {
          "base_uri": "https://localhost:8080/",
          "height": 629
        },
        "outputId": "c910c9ad-f315-44fb-9d58-3b2113d0f508"
      },
      "source": [
        "axwv = sns.heatmap(wvdata, xticklabels=np.round(deltas, decimals=1), yticklabels=np.round(mus, decimals=1))\n",
        "axwv.invert_yaxis()\n",
        "\n",
        "plt.title('Plasmon Wavelength')\n",
        "plt.ylabel('Chemical Potential ($\\mu$)')\n",
        "plt.xlabel('SC pairing parameter ($\\Delta$)')\n",
        "plt.show()"
      ],
      "execution_count": null,
      "outputs": [
        {
          "output_type": "stream",
          "text": [
            "<input>:5: DeprecationWarning: invalid escape sequence \\m\n",
            "<input>:5: DeprecationWarning: invalid escape sequence \\m\n",
            "<input>:5: DeprecationWarning: invalid escape sequence \\m\n",
            "<input>:5: DeprecationWarning: invalid escape sequence \\m\n",
            "<input>:6: DeprecationWarning: invalid escape sequence \\D\n",
            "<input>:5: DeprecationWarning: invalid escape sequence \\m\n",
            "<input>:6: DeprecationWarning: invalid escape sequence \\D\n",
            "<input>:5: DeprecationWarning: invalid escape sequence \\m\n",
            "<input>:6: DeprecationWarning: invalid escape sequence \\D\n",
            "<input>:5: DeprecationWarning: invalid escape sequence \\m\n",
            "<input>:6: DeprecationWarning: invalid escape sequence \\D\n",
            "<input>:5: DeprecationWarning: invalid escape sequence \\m\n",
            "<input>:6: DeprecationWarning: invalid escape sequence \\D\n",
            "<input>:5: DeprecationWarning: invalid escape sequence \\m\n",
            "<input>:6: DeprecationWarning: invalid escape sequence \\D\n",
            "<ipython-input-14-57a60fb0f0af>:5: DeprecationWarning: invalid escape sequence \\m\n",
            "  plt.ylabel('Chemical Potential ($\\mu$)')\n",
            "<ipython-input-14-57a60fb0f0af>:6: DeprecationWarning: invalid escape sequence \\D\n",
            "  plt.xlabel('SC pairing parameter ($\\Delta$)')\n"
          ],
          "name": "stderr"
        },
        {
          "output_type": "display_data",
          "data": {
            "image/png": "[encoded data removed]",
            "text/plain": [
              "<Figure size 432x288 with 2 Axes>"
            ]
          },
          "metadata": {
            "tags": [],
            "needs_background": "light"
          }
        }
      ]
    },
    {
      "cell_type": "code",
      "metadata": {
        "colab_type": "code",
        "id": "SPs7OZnHbfUM",
        "colab": {
          "base_uri": "https://localhost:8080/",
          "height": 629
        },
        "outputId": "aaab7148-8214-4490-94e3-b1967ea22997"
      },
      "source": [
        "axFWHM = sns.heatmap(FWHMdata, xticklabels=np.round(deltas, decimals=1), yticklabels=np.round(mus, decimals=1))\n",
        "axFWHM.invert_yaxis()\n",
        "\n",
        "plt.title('Plasmon FWHM')\n",
        "plt.ylabel('Chemical Potential ($\\mu$)')\n",
        "plt.xlabel('SC pairing parameter ($\\Delta$)')\n",
        "plt.show()"
      ],
      "execution_count": null,
      "outputs": [
        {
          "output_type": "stream",
          "text": [
            "<input>:5: DeprecationWarning: invalid escape sequence \\m\n",
            "<input>:5: DeprecationWarning: invalid escape sequence \\m\n",
            "<input>:5: DeprecationWarning: invalid escape sequence \\m\n",
            "<input>:5: DeprecationWarning: invalid escape sequence \\m\n",
            "<input>:6: DeprecationWarning: invalid escape sequence \\D\n",
            "<input>:5: DeprecationWarning: invalid escape sequence \\m\n",
            "<input>:6: DeprecationWarning: invalid escape sequence \\D\n",
            "<input>:5: DeprecationWarning: invalid escape sequence \\m\n",
            "<input>:6: DeprecationWarning: invalid escape sequence \\D\n",
            "<input>:5: DeprecationWarning: invalid escape sequence \\m\n",
            "<input>:6: DeprecationWarning: invalid escape sequence \\D\n",
            "<input>:5: DeprecationWarning: invalid escape sequence \\m\n",
            "<input>:6: DeprecationWarning: invalid escape sequence \\D\n",
            "<input>:5: DeprecationWarning: invalid escape sequence \\m\n",
            "<input>:6: DeprecationWarning: invalid escape sequence \\D\n",
            "<ipython-input-15-8fedb0be14d9>:5: DeprecationWarning: invalid escape sequence \\m\n",
            "  plt.ylabel('Chemical Potential ($\\mu$)')\n",
            "<ipython-input-15-8fedb0be14d9>:6: DeprecationWarning: invalid escape sequence \\D\n",
            "  plt.xlabel('SC pairing parameter ($\\Delta$)')\n"
          ],
          "name": "stderr"
        },
        {
          "output_type": "display_data",
          "data": {
            "image/png": "[encoded data removed]",
            "text/plain": [
              "<Figure size 432x288 with 2 Axes>"
            ]
          },
          "metadata": {
            "tags": [],
            "needs_background": "light"
          }
        }
      ]
    }
  ]
}